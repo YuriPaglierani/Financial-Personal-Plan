{
  "nbformat": 4,
  "nbformat_minor": 0,
  "metadata": {
    "colab": {
      "name": "My_plans_for_life.ipynb",
      "provenance": []
    },
    "kernelspec": {
      "name": "python3",
      "display_name": "Python 3"
    },
    "language_info": {
      "name": "python"
    }
  },
  "cells": [
    {
      "cell_type": "markdown",
      "metadata": {
        "id": "qbeNkRsljPXm"
      },
      "source": [
        "# **Retirement Plan**"
      ]
    },
    {
      "cell_type": "markdown",
      "metadata": {
        "id": "JBhQwoKCt1Vz"
      },
      "source": [
        "Let's imagine that you are a student or you've already started working.\n",
        "\n",
        "A fair way to plan your financial life could be figuring out how much money you need to save each month if you want to retire at the age x with y euros per month.\n",
        "This program could help you, follow the next steps.\n",
        "<br> 1. The payout phase is the period in which you've stopped working, here you have to write: \n",
        ">* The future value of your wallet **FV_2** (ex: when I'll have 80 yrs I want 300000 euros in my wallet);\n",
        "* The number of years planned for your retirement **n_2** (ex: if you stop working at 55 and you want to enjoy your life up to 80 your n_2 is 25);\n",
        "* The average yield you expect **r_2** (in general r_2 is less than r_1 because you are older and you don't want risky investments, in general in this phase you hold more bonds than stocks);\n",
        "* The cashflow you expect **cf_2** (for example 3000 euros per month).\n",
        "\n",
        "<br>2. The funding phase is the period in which you work and save money, here you have to write: \n",
        ">* The number of years you want to work **n**;\n",
        "* The average yield you expect **r_1** (here you can try to obtain higher values for r_1, in particular if you are young);\n",
        "* The cashflow you expect **cf_1** (for example 3000$ per month);\n",
        "* The amount of money you've already invested **PV_1** (if you're starting now your PV_1 is zero)\n",
        "\n",
        "## **IMPORTANT**\n",
        "\n",
        "Each cash flow that you deposit is negative (ex, in the funding phase you have negative cashflows, in the payout phase you withdraw money, so you have positive cashflows).\n",
        "\n",
        "## **Following example**\n",
        "\n",
        "In the following example we have a young student with 4000 euros in the pocket that starts working at 25, wants to retire at 55 and wants 2500 euros per month up to the age of 80. Suppose a 5% average net yield during the funding phase and a 2% during the payout phase (in the last 10 years the index S&P500 performed a +12.5% per year, without considering taxes, commissions etc)  \n",
        "\n",
        "After the age of 80 he/she wants an extra 100000 euros for the remaining years.\n",
        "\n",
        "As you can see, in this case you need to save and invest 761 euros per month."
      ]
    },
    {
      "cell_type": "markdown",
      "metadata": {
        "id": "czG5ZRREjaJ6"
      },
      "source": [
        "### Libraries"
      ]
    },
    {
      "cell_type": "code",
      "metadata": {
        "colab": {
          "base_uri": "https://localhost:8080/"
        },
        "id": "QApoo7Dwj9Rm",
        "outputId": "7c0e31c9-9b71-47ec-fae6-aa2981b8a1bb"
      },
      "source": [
        "!pip install numpy-financial"
      ],
      "execution_count": 1,
      "outputs": [
        {
          "output_type": "stream",
          "text": [
            "Requirement already satisfied: numpy-financial in /usr/local/lib/python3.7/dist-packages (1.0.0)\n",
            "Requirement already satisfied: numpy>=1.15 in /usr/local/lib/python3.7/dist-packages (from numpy-financial) (1.19.5)\n"
          ],
          "name": "stdout"
        }
      ]
    },
    {
      "cell_type": "code",
      "metadata": {
        "id": "G2szXmqqjpUT"
      },
      "source": [
        "import numpy as np\n",
        "import matplotlib.pyplot as plt\n",
        "import numpy_financial as npf"
      ],
      "execution_count": 2,
      "outputs": []
    },
    {
      "cell_type": "markdown",
      "metadata": {
        "id": "IKyU8_Chk18-"
      },
      "source": [
        "### Step 1: Payout Phase"
      ]
    },
    {
      "cell_type": "code",
      "metadata": {
        "colab": {
          "base_uri": "https://localhost:8080/"
        },
        "id": "6NOZSHTcjdCu",
        "outputId": "dda6314e-d158-4852-fd88-978f28c4b856"
      },
      "source": [
        "m = 12 # freq. of payments (12 pmts per year)\n",
        "cf_2 = 2500 # monthly earning during the retirement phase\n",
        "n_2 = 25 # number of years \n",
        "FV_2 = 100000 # remaining amount after your retirement plan\n",
        "r_2 = 0.02 # yield of 2%\n",
        "PV_2 = npf.pv(rate=r_2/m, nper=n_2*m, pmt=cf_2, fv=FV_2, when='begin')\n",
        "\n",
        "print(f\"The future value I'll need is: {round(-PV_2, 2)}$\")"
      ],
      "execution_count": 3,
      "outputs": [
        {
          "output_type": "stream",
          "text": [
            "The future value I'll need is: 651486.63$\n"
          ],
          "name": "stdout"
        }
      ]
    },
    {
      "cell_type": "markdown",
      "metadata": {
        "id": "l5n3AbJKjqb3"
      },
      "source": [
        "### Step 2: Funding Phase"
      ]
    },
    {
      "cell_type": "code",
      "metadata": {
        "colab": {
          "base_uri": "https://localhost:8080/"
        },
        "id": "QtPaieFUlA7I",
        "outputId": "7a170670-0c23-4dd6-cfc2-969013e1e3e8"
      },
      "source": [
        "m = 12\n",
        "n_1 = 30\n",
        "FV_1 = -PV_2\n",
        "r_1 = 0.05\n",
        "PV_1 = -4000\n",
        "cf_1 = npf.pmt(rate=r_1/m, nper=n_1*m, pv=PV_1, fv=FV_1)\n",
        "\n",
        "print(f\"I need to save: {round(-cf_1, 2)} euros per month\")"
      ],
      "execution_count": 4,
      "outputs": [
        {
          "output_type": "stream",
          "text": [
            "I need to save: 761.32 euros per month\n"
          ],
          "name": "stdout"
        }
      ]
    },
    {
      "cell_type": "markdown",
      "metadata": {
        "id": "6cUhNTaxlMeQ"
      },
      "source": [
        "# **Retirement Plan: Sensitivity Analysis**"
      ]
    },
    {
      "cell_type": "markdown",
      "metadata": {
        "id": "WX4Yg0_w5fDS"
      },
      "source": [
        "As you can imagine yields could be stochastic in time, so it could be useful analyze the sensitivity of our wallet and his relation with the yield.\n",
        "\n",
        "So let's see an example."
      ]
    },
    {
      "cell_type": "markdown",
      "metadata": {
        "id": "X0wefJVDoB5Z"
      },
      "source": [
        "###Payout Phase"
      ]
    },
    {
      "cell_type": "code",
      "metadata": {
        "colab": {
          "base_uri": "https://localhost:8080/"
        },
        "id": "GM5zCJhknhPR",
        "outputId": "33013018-3036-4069-c413-c48c0e23ca05"
      },
      "source": [
        "m = 12\n",
        "cf_2 = 2500\n",
        "n_2 = 25\n",
        "FV_2 = 100000\n",
        "r_2 = 0.03\n",
        "PV_2 = npf.pv(rate=r_2/m, nper=n_2*m, pmt=cf_2, fv=FV_2, when='begin')\n",
        "\n",
        "print(f\"The future value I'll need is: {-PV_2}$\")\n"
      ],
      "execution_count": 5,
      "outputs": [
        {
          "output_type": "stream",
          "text": [
            "The future value I'll need is: 575789.9978483317$\n"
          ],
          "name": "stdout"
        }
      ]
    },
    {
      "cell_type": "markdown",
      "metadata": {
        "id": "pQ_4fF3unxLB"
      },
      "source": [
        "### Funding Phase"
      ]
    },
    {
      "cell_type": "code",
      "metadata": {
        "colab": {
          "base_uri": "https://localhost:8080/"
        },
        "id": "4EwRqUY-oIlW",
        "outputId": "6cb53ae0-b6db-418e-a591-9e699cb592e6"
      },
      "source": [
        "m = 12\n",
        "n_1 = 25\n",
        "FV_1 = -PV_2\n",
        "r_1 = np.arange(0.020, 0.140, 0.005) # in this case we use a range of yields during the funding phase\n",
        "PV_1 = -4000\n",
        "cf_1 = npf.pmt(rate=r_1/m, nper=n_1*m, pv=PV_1, fv=FV_1)\n",
        "\n",
        "print(f\"I need to save: {-cf_1}$ per month\")"
      ],
      "execution_count": 6,
      "outputs": [
        {
          "output_type": "stream",
          "text": [
            "I need to save: [1463.9067174  1365.58311861 1272.01786668 1183.12800789 1098.81826495\n",
            " 1018.98202185  943.50239473  872.25336876  805.10098045  741.904525\n",
            "  682.51776944  626.79015308  574.56795849  525.69543844  480.01588571\n",
            "  437.37263538  397.6099913   360.57407041  326.11356114  294.0803936\n",
            "  264.33032153  236.7234171   211.12448142  187.40337436]$ per month\n"
          ],
          "name": "stdout"
        }
      ]
    },
    {
      "cell_type": "code",
      "metadata": {
        "colab": {
          "base_uri": "https://localhost:8080/",
          "height": 279
        },
        "id": "eKeqdeGOoJlN",
        "outputId": "4291f25d-3d47-44d8-97a5-28737c345211"
      },
      "source": [
        "plt.plot(np.arange(0.020, 0.140, 0.005), np.abs(cf_1))\n",
        "plt.grid()\n",
        "plt.xlabel(\"Interest Rate in Payout Phase\")\n",
        "plt.ylabel(\"Required monthly Funding Amount\")\n",
        "plt.show()"
      ],
      "execution_count": 7,
      "outputs": [
        {
          "output_type": "display_data",
          "data": {
            "image/png": "[encoded data removed]",
            "text/plain": [
              "<Figure size 432x288 with 1 Axes>"
            ]
          },
          "metadata": {
            "tags": [],
            "needs_background": "light"
          }
        }
      ]
    }
  ]
}